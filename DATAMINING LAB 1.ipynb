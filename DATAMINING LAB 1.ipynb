{
 "cells": [
  {
   "cell_type": "markdown",
   "id": "0cfc3d6d",
   "metadata": {},
   "source": [
    "# DATA MINING LAB 1 "
   ]
  },
  {
   "cell_type": "markdown",
   "id": "c7275f5e",
   "metadata": {},
   "source": [
    "# NORMALIZATION"
   ]
  },
  {
   "cell_type": "markdown",
   "id": "24a06cd8",
   "metadata": {},
   "source": [
    "1. MIN MAX= Formula: (X-X{min})/(X{max}-X{min})\n",
    "2. Z SCORE= Formula: (X-mean )/std \n",
    "3. DECIMAL SCALING: =X/10^{j}"
   ]
  },
  {
   "cell_type": "code",
   "execution_count": 1,
   "id": "2fc0165a",
   "metadata": {},
   "outputs": [
    {
     "data": {
      "text/html": [
       "<div>\n",
       "<style scoped>\n",
       "    .dataframe tbody tr th:only-of-type {\n",
       "        vertical-align: middle;\n",
       "    }\n",
       "\n",
       "    .dataframe tbody tr th {\n",
       "        vertical-align: top;\n",
       "    }\n",
       "\n",
       "    .dataframe thead th {\n",
       "        text-align: right;\n",
       "    }\n",
       "</style>\n",
       "<table border=\"1\" class=\"dataframe\">\n",
       "  <thead>\n",
       "    <tr style=\"text-align: right;\">\n",
       "      <th></th>\n",
       "      <th>Name</th>\n",
       "      <th>Regno</th>\n",
       "      <th>DOB</th>\n",
       "      <th>Mark</th>\n",
       "      <th>Grade</th>\n",
       "      <th>Gender</th>\n",
       "    </tr>\n",
       "  </thead>\n",
       "  <tbody>\n",
       "    <tr>\n",
       "      <th>0</th>\n",
       "      <td>vivek</td>\n",
       "      <td>101</td>\n",
       "      <td>2000-01-15</td>\n",
       "      <td>85.0</td>\n",
       "      <td>A</td>\n",
       "      <td>M</td>\n",
       "    </tr>\n",
       "    <tr>\n",
       "      <th>1</th>\n",
       "      <td>bhuvan</td>\n",
       "      <td>102</td>\n",
       "      <td>1999-05-22</td>\n",
       "      <td>30.0</td>\n",
       "      <td>A+</td>\n",
       "      <td>F</td>\n",
       "    </tr>\n",
       "    <tr>\n",
       "      <th>2</th>\n",
       "      <td>alok</td>\n",
       "      <td>103</td>\n",
       "      <td>2004-06-16</td>\n",
       "      <td>78.0</td>\n",
       "      <td>B</td>\n",
       "      <td>M</td>\n",
       "    </tr>\n",
       "    <tr>\n",
       "      <th>3</th>\n",
       "      <td>raju</td>\n",
       "      <td>104</td>\n",
       "      <td>2001-11-30</td>\n",
       "      <td>NaN</td>\n",
       "      <td>B+</td>\n",
       "      <td>None</td>\n",
       "    </tr>\n",
       "    <tr>\n",
       "      <th>4</th>\n",
       "      <td>yuva</td>\n",
       "      <td>105</td>\n",
       "      <td>2000-03-12</td>\n",
       "      <td>88.0</td>\n",
       "      <td>None</td>\n",
       "      <td>F</td>\n",
       "    </tr>\n",
       "  </tbody>\n",
       "</table>\n",
       "</div>"
      ],
      "text/plain": [
       "     Name  Regno         DOB  Mark Grade Gender\n",
       "0   vivek    101  2000-01-15  85.0     A      M\n",
       "1  bhuvan    102  1999-05-22  30.0    A+      F\n",
       "2    alok    103  2004-06-16  78.0     B      M\n",
       "3    raju    104  2001-11-30   NaN    B+   None\n",
       "4    yuva    105  2000-03-12  88.0  None      F"
      ]
     },
     "execution_count": 1,
     "metadata": {},
     "output_type": "execute_result"
    }
   ],
   "source": [
    "import pandas as pd\n",
    "\n",
    "\n",
    "\n",
    "df = pd.DataFrame({\n",
    "    \"Name\":['vivek','bhuvan','alok','raju','yuva'],\n",
    "    \"Regno\": [101, 102, 103, 104, 105],\n",
    "    \"DOB\": ['2000-01-15', '1999-05-22', '2004-06-16', '2001-11-30', '2000-03-12'],\n",
    "    \"Mark\": [85, 30, 78, None, 88],\n",
    "    \"Grade\": ['A', 'A+', 'B', 'B+', None],\n",
    "    \"Gender\": ['M', 'F', 'M', None, 'F']\n",
    "})\n",
    "\n",
    "df\n"
   ]
  },
  {
   "cell_type": "code",
   "execution_count": 2,
   "id": "752396d6",
   "metadata": {},
   "outputs": [
    {
     "data": {
      "text/html": [
       "<div>\n",
       "<style scoped>\n",
       "    .dataframe tbody tr th:only-of-type {\n",
       "        vertical-align: middle;\n",
       "    }\n",
       "\n",
       "    .dataframe tbody tr th {\n",
       "        vertical-align: top;\n",
       "    }\n",
       "\n",
       "    .dataframe thead th {\n",
       "        text-align: right;\n",
       "    }\n",
       "</style>\n",
       "<table border=\"1\" class=\"dataframe\">\n",
       "  <thead>\n",
       "    <tr style=\"text-align: right;\">\n",
       "      <th></th>\n",
       "      <th>Name</th>\n",
       "      <th>Regno</th>\n",
       "      <th>DOB</th>\n",
       "      <th>Mark</th>\n",
       "      <th>Grade</th>\n",
       "      <th>Gender</th>\n",
       "    </tr>\n",
       "  </thead>\n",
       "  <tbody>\n",
       "    <tr>\n",
       "      <th>0</th>\n",
       "      <td>vivek</td>\n",
       "      <td>101</td>\n",
       "      <td>2000-01-15</td>\n",
       "      <td>85.0</td>\n",
       "      <td>A</td>\n",
       "      <td>M</td>\n",
       "    </tr>\n",
       "    <tr>\n",
       "      <th>1</th>\n",
       "      <td>bhuvan</td>\n",
       "      <td>102</td>\n",
       "      <td>1999-05-22</td>\n",
       "      <td>30.0</td>\n",
       "      <td>A+</td>\n",
       "      <td>F</td>\n",
       "    </tr>\n",
       "    <tr>\n",
       "      <th>2</th>\n",
       "      <td>alok</td>\n",
       "      <td>103</td>\n",
       "      <td>2004-06-16</td>\n",
       "      <td>78.0</td>\n",
       "      <td>B</td>\n",
       "      <td>M</td>\n",
       "    </tr>\n",
       "    <tr>\n",
       "      <th>3</th>\n",
       "      <td>raju</td>\n",
       "      <td>104</td>\n",
       "      <td>2001-11-30</td>\n",
       "      <td>NaN</td>\n",
       "      <td>B+</td>\n",
       "      <td>None</td>\n",
       "    </tr>\n",
       "    <tr>\n",
       "      <th>4</th>\n",
       "      <td>yuva</td>\n",
       "      <td>105</td>\n",
       "      <td>2000-03-12</td>\n",
       "      <td>88.0</td>\n",
       "      <td>None</td>\n",
       "      <td>F</td>\n",
       "    </tr>\n",
       "  </tbody>\n",
       "</table>\n",
       "</div>"
      ],
      "text/plain": [
       "     Name  Regno         DOB  Mark Grade Gender\n",
       "0   vivek    101  2000-01-15  85.0     A      M\n",
       "1  bhuvan    102  1999-05-22  30.0    A+      F\n",
       "2    alok    103  2004-06-16  78.0     B      M\n",
       "3    raju    104  2001-11-30   NaN    B+   None\n",
       "4    yuva    105  2000-03-12  88.0  None      F"
      ]
     },
     "execution_count": 2,
     "metadata": {},
     "output_type": "execute_result"
    }
   ],
   "source": [
    "df.head()"
   ]
  },
  {
   "cell_type": "code",
   "execution_count": 3,
   "id": "333e5012",
   "metadata": {},
   "outputs": [
    {
     "data": {
      "text/html": [
       "<div>\n",
       "<style scoped>\n",
       "    .dataframe tbody tr th:only-of-type {\n",
       "        vertical-align: middle;\n",
       "    }\n",
       "\n",
       "    .dataframe tbody tr th {\n",
       "        vertical-align: top;\n",
       "    }\n",
       "\n",
       "    .dataframe thead th {\n",
       "        text-align: right;\n",
       "    }\n",
       "</style>\n",
       "<table border=\"1\" class=\"dataframe\">\n",
       "  <thead>\n",
       "    <tr style=\"text-align: right;\">\n",
       "      <th></th>\n",
       "      <th>Name</th>\n",
       "      <th>Regno</th>\n",
       "    </tr>\n",
       "  </thead>\n",
       "  <tbody>\n",
       "    <tr>\n",
       "      <th>0</th>\n",
       "      <td>vivek</td>\n",
       "      <td>101</td>\n",
       "    </tr>\n",
       "    <tr>\n",
       "      <th>1</th>\n",
       "      <td>bhuvan</td>\n",
       "      <td>102</td>\n",
       "    </tr>\n",
       "    <tr>\n",
       "      <th>2</th>\n",
       "      <td>alok</td>\n",
       "      <td>103</td>\n",
       "    </tr>\n",
       "    <tr>\n",
       "      <th>3</th>\n",
       "      <td>raju</td>\n",
       "      <td>104</td>\n",
       "    </tr>\n",
       "    <tr>\n",
       "      <th>4</th>\n",
       "      <td>yuva</td>\n",
       "      <td>105</td>\n",
       "    </tr>\n",
       "  </tbody>\n",
       "</table>\n",
       "</div>"
      ],
      "text/plain": [
       "     Name  Regno\n",
       "0   vivek    101\n",
       "1  bhuvan    102\n",
       "2    alok    103\n",
       "3    raju    104\n",
       "4    yuva    105"
      ]
     },
     "execution_count": 3,
     "metadata": {},
     "output_type": "execute_result"
    }
   ],
   "source": [
    "filterd=df.filter([\"Name\",\"Regno\"])\n",
    "filterd"
   ]
  },
  {
   "cell_type": "code",
   "execution_count": 4,
   "id": "5e0d63e3",
   "metadata": {},
   "outputs": [
    {
     "data": {
      "text/html": [
       "<div>\n",
       "<style scoped>\n",
       "    .dataframe tbody tr th:only-of-type {\n",
       "        vertical-align: middle;\n",
       "    }\n",
       "\n",
       "    .dataframe tbody tr th {\n",
       "        vertical-align: top;\n",
       "    }\n",
       "\n",
       "    .dataframe thead th {\n",
       "        text-align: right;\n",
       "    }\n",
       "</style>\n",
       "<table border=\"1\" class=\"dataframe\">\n",
       "  <thead>\n",
       "    <tr style=\"text-align: right;\">\n",
       "      <th></th>\n",
       "      <th>Name</th>\n",
       "      <th>Regno</th>\n",
       "      <th>DOB</th>\n",
       "      <th>Mark</th>\n",
       "      <th>Grade</th>\n",
       "      <th>Gender</th>\n",
       "    </tr>\n",
       "  </thead>\n",
       "  <tbody>\n",
       "    <tr>\n",
       "      <th>0</th>\n",
       "      <td>vivek</td>\n",
       "      <td>101</td>\n",
       "      <td>2000-01-15</td>\n",
       "      <td>85.0</td>\n",
       "      <td>A</td>\n",
       "      <td>M</td>\n",
       "    </tr>\n",
       "    <tr>\n",
       "      <th>1</th>\n",
       "      <td>bhuvan</td>\n",
       "      <td>102</td>\n",
       "      <td>1999-05-22</td>\n",
       "      <td>30.0</td>\n",
       "      <td>A+</td>\n",
       "      <td>F</td>\n",
       "    </tr>\n",
       "    <tr>\n",
       "      <th>2</th>\n",
       "      <td>alok</td>\n",
       "      <td>103</td>\n",
       "      <td>2004-06-16</td>\n",
       "      <td>78.0</td>\n",
       "      <td>B</td>\n",
       "      <td>M</td>\n",
       "    </tr>\n",
       "    <tr>\n",
       "      <th>3</th>\n",
       "      <td>raju</td>\n",
       "      <td>104</td>\n",
       "      <td>2001-11-30</td>\n",
       "      <td>NaN</td>\n",
       "      <td>B+</td>\n",
       "      <td>None</td>\n",
       "    </tr>\n",
       "    <tr>\n",
       "      <th>4</th>\n",
       "      <td>yuva</td>\n",
       "      <td>105</td>\n",
       "      <td>2000-03-12</td>\n",
       "      <td>88.0</td>\n",
       "      <td>None</td>\n",
       "      <td>F</td>\n",
       "    </tr>\n",
       "  </tbody>\n",
       "</table>\n",
       "</div>"
      ],
      "text/plain": [
       "     Name  Regno         DOB  Mark Grade Gender\n",
       "0   vivek    101  2000-01-15  85.0     A      M\n",
       "1  bhuvan    102  1999-05-22  30.0    A+      F\n",
       "2    alok    103  2004-06-16  78.0     B      M\n",
       "3    raju    104  2001-11-30   NaN    B+   None\n",
       "4    yuva    105  2000-03-12  88.0  None      F"
      ]
     },
     "execution_count": 4,
     "metadata": {},
     "output_type": "execute_result"
    }
   ],
   "source": [
    "df=df.drop_duplicates()\n",
    "df"
   ]
  },
  {
   "cell_type": "code",
   "execution_count": 5,
   "id": "7cbf16ff",
   "metadata": {},
   "outputs": [
    {
     "data": {
      "text/plain": [
       "Name      0\n",
       "Regno     0\n",
       "DOB       0\n",
       "Mark      1\n",
       "Grade     1\n",
       "Gender    1\n",
       "dtype: int64"
      ]
     },
     "execution_count": 5,
     "metadata": {},
     "output_type": "execute_result"
    }
   ],
   "source": [
    "missing=df.isnull().sum()\n",
    "missing"
   ]
  },
  {
   "cell_type": "code",
   "execution_count": 6,
   "id": "f801d460",
   "metadata": {},
   "outputs": [
    {
     "data": {
      "text/html": [
       "<div>\n",
       "<style scoped>\n",
       "    .dataframe tbody tr th:only-of-type {\n",
       "        vertical-align: middle;\n",
       "    }\n",
       "\n",
       "    .dataframe tbody tr th {\n",
       "        vertical-align: top;\n",
       "    }\n",
       "\n",
       "    .dataframe thead th {\n",
       "        text-align: right;\n",
       "    }\n",
       "</style>\n",
       "<table border=\"1\" class=\"dataframe\">\n",
       "  <thead>\n",
       "    <tr style=\"text-align: right;\">\n",
       "      <th></th>\n",
       "      <th>Name</th>\n",
       "      <th>Regno</th>\n",
       "      <th>DOB</th>\n",
       "      <th>Mark</th>\n",
       "      <th>Grade</th>\n",
       "      <th>Gender</th>\n",
       "    </tr>\n",
       "  </thead>\n",
       "  <tbody>\n",
       "    <tr>\n",
       "      <th>0</th>\n",
       "      <td>vivek</td>\n",
       "      <td>101</td>\n",
       "      <td>2000-01-15</td>\n",
       "      <td>85.0</td>\n",
       "      <td>A</td>\n",
       "      <td>M</td>\n",
       "    </tr>\n",
       "    <tr>\n",
       "      <th>1</th>\n",
       "      <td>bhuvan</td>\n",
       "      <td>102</td>\n",
       "      <td>1999-05-22</td>\n",
       "      <td>30.0</td>\n",
       "      <td>A+</td>\n",
       "      <td>F</td>\n",
       "    </tr>\n",
       "    <tr>\n",
       "      <th>2</th>\n",
       "      <td>alok</td>\n",
       "      <td>103</td>\n",
       "      <td>2004-06-16</td>\n",
       "      <td>78.0</td>\n",
       "      <td>B</td>\n",
       "      <td>M</td>\n",
       "    </tr>\n",
       "  </tbody>\n",
       "</table>\n",
       "</div>"
      ],
      "text/plain": [
       "     Name  Regno         DOB  Mark Grade Gender\n",
       "0   vivek    101  2000-01-15  85.0     A      M\n",
       "1  bhuvan    102  1999-05-22  30.0    A+      F\n",
       "2    alok    103  2004-06-16  78.0     B      M"
      ]
     },
     "execution_count": 6,
     "metadata": {},
     "output_type": "execute_result"
    }
   ],
   "source": [
    "df=df.dropna()\n",
    "df"
   ]
  },
  {
   "cell_type": "code",
   "execution_count": 7,
   "id": "319b4db7",
   "metadata": {},
   "outputs": [
    {
     "data": {
      "text/html": [
       "<div>\n",
       "<style scoped>\n",
       "    .dataframe tbody tr th:only-of-type {\n",
       "        vertical-align: middle;\n",
       "    }\n",
       "\n",
       "    .dataframe tbody tr th {\n",
       "        vertical-align: top;\n",
       "    }\n",
       "\n",
       "    .dataframe thead th {\n",
       "        text-align: right;\n",
       "    }\n",
       "</style>\n",
       "<table border=\"1\" class=\"dataframe\">\n",
       "  <thead>\n",
       "    <tr style=\"text-align: right;\">\n",
       "      <th></th>\n",
       "      <th>Name</th>\n",
       "      <th>Reg.No</th>\n",
       "      <th>DOB</th>\n",
       "      <th>Mark</th>\n",
       "      <th>Grade</th>\n",
       "      <th>Gender</th>\n",
       "    </tr>\n",
       "  </thead>\n",
       "  <tbody>\n",
       "    <tr>\n",
       "      <th>0</th>\n",
       "      <td>vivek</td>\n",
       "      <td>101</td>\n",
       "      <td>2000-01-15</td>\n",
       "      <td>85.0</td>\n",
       "      <td>A</td>\n",
       "      <td>M</td>\n",
       "    </tr>\n",
       "    <tr>\n",
       "      <th>1</th>\n",
       "      <td>bhuvan</td>\n",
       "      <td>102</td>\n",
       "      <td>1999-05-22</td>\n",
       "      <td>30.0</td>\n",
       "      <td>A+</td>\n",
       "      <td>F</td>\n",
       "    </tr>\n",
       "    <tr>\n",
       "      <th>2</th>\n",
       "      <td>alok</td>\n",
       "      <td>103</td>\n",
       "      <td>2004-06-16</td>\n",
       "      <td>78.0</td>\n",
       "      <td>B</td>\n",
       "      <td>M</td>\n",
       "    </tr>\n",
       "  </tbody>\n",
       "</table>\n",
       "</div>"
      ],
      "text/plain": [
       "     Name  Reg.No         DOB  Mark Grade Gender\n",
       "0   vivek     101  2000-01-15  85.0     A      M\n",
       "1  bhuvan     102  1999-05-22  30.0    A+      F\n",
       "2    alok     103  2004-06-16  78.0     B      M"
      ]
     },
     "execution_count": 7,
     "metadata": {},
     "output_type": "execute_result"
    }
   ],
   "source": [
    "df=df.rename(columns={\"Regno\":\"Reg.No\"})\n",
    "df"
   ]
  },
  {
   "cell_type": "code",
   "execution_count": 8,
   "id": "0681bdc4",
   "metadata": {},
   "outputs": [
    {
     "data": {
      "text/html": [
       "<div>\n",
       "<style scoped>\n",
       "    .dataframe tbody tr th:only-of-type {\n",
       "        vertical-align: middle;\n",
       "    }\n",
       "\n",
       "    .dataframe tbody tr th {\n",
       "        vertical-align: top;\n",
       "    }\n",
       "\n",
       "    .dataframe thead th {\n",
       "        text-align: right;\n",
       "    }\n",
       "</style>\n",
       "<table border=\"1\" class=\"dataframe\">\n",
       "  <thead>\n",
       "    <tr style=\"text-align: right;\">\n",
       "      <th></th>\n",
       "      <th>Reg.No</th>\n",
       "      <th>Mark</th>\n",
       "    </tr>\n",
       "  </thead>\n",
       "  <tbody>\n",
       "    <tr>\n",
       "      <th>count</th>\n",
       "      <td>3.0</td>\n",
       "      <td>3.000000</td>\n",
       "    </tr>\n",
       "    <tr>\n",
       "      <th>mean</th>\n",
       "      <td>102.0</td>\n",
       "      <td>64.333333</td>\n",
       "    </tr>\n",
       "    <tr>\n",
       "      <th>std</th>\n",
       "      <td>1.0</td>\n",
       "      <td>29.938827</td>\n",
       "    </tr>\n",
       "    <tr>\n",
       "      <th>min</th>\n",
       "      <td>101.0</td>\n",
       "      <td>30.000000</td>\n",
       "    </tr>\n",
       "    <tr>\n",
       "      <th>25%</th>\n",
       "      <td>101.5</td>\n",
       "      <td>54.000000</td>\n",
       "    </tr>\n",
       "    <tr>\n",
       "      <th>50%</th>\n",
       "      <td>102.0</td>\n",
       "      <td>78.000000</td>\n",
       "    </tr>\n",
       "    <tr>\n",
       "      <th>75%</th>\n",
       "      <td>102.5</td>\n",
       "      <td>81.500000</td>\n",
       "    </tr>\n",
       "    <tr>\n",
       "      <th>max</th>\n",
       "      <td>103.0</td>\n",
       "      <td>85.000000</td>\n",
       "    </tr>\n",
       "  </tbody>\n",
       "</table>\n",
       "</div>"
      ],
      "text/plain": [
       "       Reg.No       Mark\n",
       "count     3.0   3.000000\n",
       "mean    102.0  64.333333\n",
       "std       1.0  29.938827\n",
       "min     101.0  30.000000\n",
       "25%     101.5  54.000000\n",
       "50%     102.0  78.000000\n",
       "75%     102.5  81.500000\n",
       "max     103.0  85.000000"
      ]
     },
     "execution_count": 8,
     "metadata": {},
     "output_type": "execute_result"
    }
   ],
   "source": [
    "df.describe()"
   ]
  },
  {
   "cell_type": "code",
   "execution_count": 9,
   "id": "82c8391b",
   "metadata": {},
   "outputs": [
    {
     "data": {
      "text/plain": [
       "30.0"
      ]
     },
     "execution_count": 9,
     "metadata": {},
     "output_type": "execute_result"
    }
   ],
   "source": [
    "min_marks=df[\"Mark\"].min()\n",
    "min_marks"
   ]
  },
  {
   "cell_type": "code",
   "execution_count": 10,
   "id": "ac7804d0",
   "metadata": {},
   "outputs": [
    {
     "data": {
      "text/plain": [
       "85.0"
      ]
     },
     "execution_count": 10,
     "metadata": {},
     "output_type": "execute_result"
    }
   ],
   "source": [
    "max_marks=df[\"Mark\"].max()\n",
    "max_marks"
   ]
  },
  {
   "cell_type": "code",
   "execution_count": 11,
   "id": "72a89b75",
   "metadata": {},
   "outputs": [
    {
     "data": {
      "text/plain": [
       "64.33333333333333"
      ]
     },
     "execution_count": 11,
     "metadata": {},
     "output_type": "execute_result"
    }
   ],
   "source": [
    "mean_mark=df[\"Mark\"].mean()\n",
    "mean_mark"
   ]
  },
  {
   "cell_type": "code",
   "execution_count": 12,
   "id": "4aac8c98",
   "metadata": {},
   "outputs": [
    {
     "data": {
      "text/plain": [
       "29.938826518975876"
      ]
     },
     "execution_count": 12,
     "metadata": {},
     "output_type": "execute_result"
    }
   ],
   "source": [
    "std_mark=df[\"Mark\"].std()\n",
    "std_mark"
   ]
  },
  {
   "cell_type": "code",
   "execution_count": 13,
   "id": "4dda4a38",
   "metadata": {},
   "outputs": [
    {
     "data": {
      "text/plain": [
       "78.0"
      ]
     },
     "execution_count": 13,
     "metadata": {},
     "output_type": "execute_result"
    }
   ],
   "source": [
    "median_mark=df[\"Mark\"].median()\n",
    "median_mark"
   ]
  },
  {
   "cell_type": "code",
   "execution_count": 14,
   "id": "6d72d1f7",
   "metadata": {},
   "outputs": [
    {
     "data": {
      "text/plain": [
       "0    30.0\n",
       "1    78.0\n",
       "2    85.0\n",
       "dtype: float64"
      ]
     },
     "execution_count": 14,
     "metadata": {},
     "output_type": "execute_result"
    }
   ],
   "source": [
    "mode_mark=df[\"Mark\"].mode()\n",
    "mode_mark"
   ]
  },
  {
   "cell_type": "code",
   "execution_count": 15,
   "id": "a1bc09db",
   "metadata": {},
   "outputs": [
    {
     "data": {
      "text/plain": [
       "896.3333333333333"
      ]
     },
     "execution_count": 15,
     "metadata": {},
     "output_type": "execute_result"
    }
   ],
   "source": [
    "var_mark=df[\"Mark\"].var()\n",
    "var_mark"
   ]
  },
  {
   "cell_type": "code",
   "execution_count": 16,
   "id": "1f5623c6",
   "metadata": {},
   "outputs": [
    {
     "data": {
      "text/plain": [
       "3.3401442750809833"
      ]
     },
     "execution_count": 16,
     "metadata": {},
     "output_type": "execute_result"
    }
   ],
   "source": [
    "coeff=(std_mark/var_mark)*100\n",
    "coeff"
   ]
  },
  {
   "cell_type": "code",
   "execution_count": 17,
   "id": "c576122e",
   "metadata": {},
   "outputs": [
    {
     "data": {
      "text/plain": [
       "0.25    54.0\n",
       "0.50    78.0\n",
       "0.75    81.5\n",
       "Name: Mark, dtype: float64"
      ]
     },
     "execution_count": 17,
     "metadata": {},
     "output_type": "execute_result"
    }
   ],
   "source": [
    "quantile_mark=df[\"Mark\"].quantile([.25,0.5,0.75])\n",
    "quantile_mark"
   ]
  },
  {
   "cell_type": "code",
   "execution_count": 18,
   "id": "add1dcd3",
   "metadata": {},
   "outputs": [
    {
     "data": {
      "image/png": "[encoded data removed]",
      "text/plain": [
       "<Figure size 432x288 with 1 Axes>"
      ]
     },
     "metadata": {
      "needs_background": "light"
     },
     "output_type": "display_data"
    }
   ],
   "source": [
    "import matplotlib.pyplot as plt\n",
    "plt.boxplot(df[\"Mark\"])\n",
    "plt.show()"
   ]
  },
  {
   "cell_type": "code",
   "execution_count": 19,
   "id": "7e48b3da",
   "metadata": {},
   "outputs": [
    {
     "data": {
      "image/png": "[encoded data removed]",
      "text/plain": [
       "<Figure size 432x288 with 1 Axes>"
      ]
     },
     "metadata": {
      "needs_background": "light"
     },
     "output_type": "display_data"
    }
   ],
   "source": [
    "import seaborn as sns\n",
    "sns.histplot(df[\"Mark\"])\n",
    "plt.show()"
   ]
  },
  {
   "cell_type": "code",
   "execution_count": 20,
   "id": "06d3a4bf",
   "metadata": {},
   "outputs": [
    {
     "data": {
      "image/png": "[encoded data removed]",
      "text/plain": [
       "<Figure size 432x288 with 1 Axes>"
      ]
     },
     "metadata": {
      "needs_background": "light"
     },
     "output_type": "display_data"
    }
   ],
   "source": [
    "sns.barplot(x=df[\"Name\"],y=df[\"Mark\"])\n",
    "plt.show()"
   ]
  },
  {
   "cell_type": "code",
   "execution_count": 30,
   "id": "f0d3509f",
   "metadata": {},
   "outputs": [
    {
     "data": {
      "image/png": "[encoded data removed]",
      "text/plain": [
       "<Figure size 432x288 with 1 Axes>"
      ]
     },
     "metadata": {
      "needs_background": "light"
     },
     "output_type": "display_data"
    }
   ],
   "source": [
    "sns.barplot(x=df[\"Gender\"],y=df[\"Mark\"])\n",
    "plt.show()"
   ]
  },
  {
   "cell_type": "markdown",
   "id": "ac10f19a",
   "metadata": {},
   "source": [
    "# MIN MAX"
   ]
  },
  {
   "cell_type": "code",
   "execution_count": 37,
   "id": "6ae5b4d6",
   "metadata": {},
   "outputs": [
    {
     "data": {
      "text/html": [
       "<div>\n",
       "<style scoped>\n",
       "    .dataframe tbody tr th:only-of-type {\n",
       "        vertical-align: middle;\n",
       "    }\n",
       "\n",
       "    .dataframe tbody tr th {\n",
       "        vertical-align: top;\n",
       "    }\n",
       "\n",
       "    .dataframe thead th {\n",
       "        text-align: right;\n",
       "    }\n",
       "</style>\n",
       "<table border=\"1\" class=\"dataframe\">\n",
       "  <thead>\n",
       "    <tr style=\"text-align: right;\">\n",
       "      <th></th>\n",
       "      <th>Name</th>\n",
       "      <th>Reg.No</th>\n",
       "      <th>DOB</th>\n",
       "      <th>Mark</th>\n",
       "      <th>Grade</th>\n",
       "      <th>Gender</th>\n",
       "      <th>Mark_minmax</th>\n",
       "      <th>Z_score</th>\n",
       "      <th>scale_results</th>\n",
       "    </tr>\n",
       "  </thead>\n",
       "  <tbody>\n",
       "    <tr>\n",
       "      <th>0</th>\n",
       "      <td>vivek</td>\n",
       "      <td>101</td>\n",
       "      <td>2000-01-15</td>\n",
       "      <td>85.0</td>\n",
       "      <td>A</td>\n",
       "      <td>M</td>\n",
       "      <td>1.000000</td>\n",
       "      <td>0.690296</td>\n",
       "      <td>0.85</td>\n",
       "    </tr>\n",
       "    <tr>\n",
       "      <th>1</th>\n",
       "      <td>bhuvan</td>\n",
       "      <td>102</td>\n",
       "      <td>1999-05-22</td>\n",
       "      <td>30.0</td>\n",
       "      <td>A+</td>\n",
       "      <td>F</td>\n",
       "      <td>0.000000</td>\n",
       "      <td>-1.146783</td>\n",
       "      <td>0.30</td>\n",
       "    </tr>\n",
       "    <tr>\n",
       "      <th>2</th>\n",
       "      <td>alok</td>\n",
       "      <td>103</td>\n",
       "      <td>2004-06-16</td>\n",
       "      <td>78.0</td>\n",
       "      <td>B</td>\n",
       "      <td>M</td>\n",
       "      <td>0.872727</td>\n",
       "      <td>0.456486</td>\n",
       "      <td>0.78</td>\n",
       "    </tr>\n",
       "  </tbody>\n",
       "</table>\n",
       "</div>"
      ],
      "text/plain": [
       "     Name  Reg.No         DOB  Mark Grade Gender  Mark_minmax   Z_score  \\\n",
       "0   vivek     101  2000-01-15  85.0     A      M     1.000000  0.690296   \n",
       "1  bhuvan     102  1999-05-22  30.0    A+      F     0.000000 -1.146783   \n",
       "2    alok     103  2004-06-16  78.0     B      M     0.872727  0.456486   \n",
       "\n",
       "   scale_results  \n",
       "0           0.85  \n",
       "1           0.30  \n",
       "2           0.78  "
      ]
     },
     "execution_count": 37,
     "metadata": {},
     "output_type": "execute_result"
    }
   ],
   "source": [
    "df['Mark_minmax'] = (df['Mark'] - min_marks) / (max_marks - min_marks)\n",
    "df"
   ]
  },
  {
   "cell_type": "markdown",
   "id": "b6b99525",
   "metadata": {},
   "source": [
    "# Z score"
   ]
  },
  {
   "cell_type": "code",
   "execution_count": 35,
   "id": "344c7e2f",
   "metadata": {},
   "outputs": [
    {
     "data": {
      "text/html": [
       "<div>\n",
       "<style scoped>\n",
       "    .dataframe tbody tr th:only-of-type {\n",
       "        vertical-align: middle;\n",
       "    }\n",
       "\n",
       "    .dataframe tbody tr th {\n",
       "        vertical-align: top;\n",
       "    }\n",
       "\n",
       "    .dataframe thead th {\n",
       "        text-align: right;\n",
       "    }\n",
       "</style>\n",
       "<table border=\"1\" class=\"dataframe\">\n",
       "  <thead>\n",
       "    <tr style=\"text-align: right;\">\n",
       "      <th></th>\n",
       "      <th>Mark</th>\n",
       "      <th>Z_score</th>\n",
       "    </tr>\n",
       "  </thead>\n",
       "  <tbody>\n",
       "    <tr>\n",
       "      <th>0</th>\n",
       "      <td>85.0</td>\n",
       "      <td>0.690296</td>\n",
       "    </tr>\n",
       "    <tr>\n",
       "      <th>1</th>\n",
       "      <td>30.0</td>\n",
       "      <td>-1.146783</td>\n",
       "    </tr>\n",
       "    <tr>\n",
       "      <th>2</th>\n",
       "      <td>78.0</td>\n",
       "      <td>0.456486</td>\n",
       "    </tr>\n",
       "  </tbody>\n",
       "</table>\n",
       "</div>"
      ],
      "text/plain": [
       "   Mark   Z_score\n",
       "0  85.0  0.690296\n",
       "1  30.0 -1.146783\n",
       "2  78.0  0.456486"
      ]
     },
     "execution_count": 35,
     "metadata": {},
     "output_type": "execute_result"
    }
   ],
   "source": [
    "df['Z_score'] = (df['Mark'] - mean_mark) / std_mark\n",
    "df[['Mark', 'Z_score']]"
   ]
  },
  {
   "cell_type": "markdown",
   "id": "bfad667e",
   "metadata": {},
   "source": [
    "# DECIMAL SCALING"
   ]
  },
  {
   "cell_type": "code",
   "execution_count": 36,
   "id": "684b0657",
   "metadata": {},
   "outputs": [
    {
     "data": {
      "text/html": [
       "<div>\n",
       "<style scoped>\n",
       "    .dataframe tbody tr th:only-of-type {\n",
       "        vertical-align: middle;\n",
       "    }\n",
       "\n",
       "    .dataframe tbody tr th {\n",
       "        vertical-align: top;\n",
       "    }\n",
       "\n",
       "    .dataframe thead th {\n",
       "        text-align: right;\n",
       "    }\n",
       "</style>\n",
       "<table border=\"1\" class=\"dataframe\">\n",
       "  <thead>\n",
       "    <tr style=\"text-align: right;\">\n",
       "      <th></th>\n",
       "      <th>Mark</th>\n",
       "      <th>scale_results</th>\n",
       "    </tr>\n",
       "  </thead>\n",
       "  <tbody>\n",
       "    <tr>\n",
       "      <th>0</th>\n",
       "      <td>85.0</td>\n",
       "      <td>0.85</td>\n",
       "    </tr>\n",
       "    <tr>\n",
       "      <th>1</th>\n",
       "      <td>30.0</td>\n",
       "      <td>0.30</td>\n",
       "    </tr>\n",
       "    <tr>\n",
       "      <th>2</th>\n",
       "      <td>78.0</td>\n",
       "      <td>0.78</td>\n",
       "    </tr>\n",
       "  </tbody>\n",
       "</table>\n",
       "</div>"
      ],
      "text/plain": [
       "   Mark  scale_results\n",
       "0  85.0           0.85\n",
       "1  30.0           0.30\n",
       "2  78.0           0.78"
      ]
     },
     "execution_count": 36,
     "metadata": {},
     "output_type": "execute_result"
    }
   ],
   "source": [
    "from decimal import Decimal\n",
    "df['scale_results'] = df['Mark'] / 100.0\n",
    "df[['Mark', 'scale_results']]"
   ]
  },
  {
   "cell_type": "code",
   "execution_count": 39,
   "id": "3bad3742",
   "metadata": {},
   "outputs": [
    {
     "data": {
      "text/html": [
       "<div>\n",
       "<style scoped>\n",
       "    .dataframe tbody tr th:only-of-type {\n",
       "        vertical-align: middle;\n",
       "    }\n",
       "\n",
       "    .dataframe tbody tr th {\n",
       "        vertical-align: top;\n",
       "    }\n",
       "\n",
       "    .dataframe thead th {\n",
       "        text-align: right;\n",
       "    }\n",
       "</style>\n",
       "<table border=\"1\" class=\"dataframe\">\n",
       "  <thead>\n",
       "    <tr style=\"text-align: right;\">\n",
       "      <th></th>\n",
       "      <th>Name</th>\n",
       "      <th>Reg.No</th>\n",
       "      <th>Mark</th>\n",
       "      <th>Mark_minmax</th>\n",
       "      <th>Z_score</th>\n",
       "      <th>scale_results</th>\n",
       "    </tr>\n",
       "  </thead>\n",
       "  <tbody>\n",
       "    <tr>\n",
       "      <th>0</th>\n",
       "      <td>vivek</td>\n",
       "      <td>101</td>\n",
       "      <td>85.0</td>\n",
       "      <td>1.000000</td>\n",
       "      <td>0.690296</td>\n",
       "      <td>0.85</td>\n",
       "    </tr>\n",
       "    <tr>\n",
       "      <th>1</th>\n",
       "      <td>bhuvan</td>\n",
       "      <td>102</td>\n",
       "      <td>30.0</td>\n",
       "      <td>0.000000</td>\n",
       "      <td>-1.146783</td>\n",
       "      <td>0.30</td>\n",
       "    </tr>\n",
       "    <tr>\n",
       "      <th>2</th>\n",
       "      <td>alok</td>\n",
       "      <td>103</td>\n",
       "      <td>78.0</td>\n",
       "      <td>0.872727</td>\n",
       "      <td>0.456486</td>\n",
       "      <td>0.78</td>\n",
       "    </tr>\n",
       "  </tbody>\n",
       "</table>\n",
       "</div>"
      ],
      "text/plain": [
       "     Name  Reg.No  Mark  Mark_minmax   Z_score  scale_results\n",
       "0   vivek     101  85.0     1.000000  0.690296           0.85\n",
       "1  bhuvan     102  30.0     0.000000 -1.146783           0.30\n",
       "2    alok     103  78.0     0.872727  0.456486           0.78"
      ]
     },
     "execution_count": 39,
     "metadata": {},
     "output_type": "execute_result"
    }
   ],
   "source": [
    "filterd=df.filter([\"Name\",\"Reg.No\",\"Mark\",\"Mark_minmax\",\"Z_score\",\"scale_results\"])\n",
    "filterd"
   ]
  },
  {
   "cell_type": "markdown",
   "id": "d825bd19",
   "metadata": {},
   "source": [
    "# ---------------------------------------------------------------------------------------------------------"
   ]
  }
 ],
 "metadata": {
  "kernelspec": {
   "display_name": "Python 3",
   "language": "python",
   "name": "python3"
  },
  "language_info": {
   "codemirror_mode": {
    "name": "ipython",
    "version": 3
   },
   "file_extension": ".py",
   "mimetype": "text/x-python",
   "name": "python",
   "nbconvert_exporter": "python",
   "pygments_lexer": "ipython3",
   "version": "3.8.8"
  }
 },
 "nbformat": 4,
 "nbformat_minor": 5
}
